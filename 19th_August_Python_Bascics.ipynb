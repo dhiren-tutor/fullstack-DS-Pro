{
 "cells": [
  {
   "cell_type": "code",
   "execution_count": 1,
   "id": "74a64105-e3f1-4edf-ae97-d07b89bdd7f9",
   "metadata": {},
   "outputs": [],
   "source": [
    "# Assignment : Python Basic variables"
   ]
  },
  {
   "cell_type": "code",
   "execution_count": 9,
   "id": "c704941e-d095-4f3b-919b-59ceaa5e7d76",
   "metadata": {},
   "outputs": [
    {
     "data": {
      "text/plain": [
       "'Soln 1: Swap the values of the variables without using any temporary\\nvariable.'"
      ]
     },
     "execution_count": 9,
     "metadata": {},
     "output_type": "execute_result"
    }
   ],
   "source": [
    "\"\"\"Soln 1: Swap the values of the variables without using any temporary\n",
    "variable.\"\"\""
   ]
  },
  {
   "cell_type": "code",
   "execution_count": 21,
   "id": "d772a269-fc24-48f3-b73d-0df3355057ac",
   "metadata": {},
   "outputs": [
    {
     "name": "stdout",
     "output_type": "stream",
     "text": [
      "x = 30 y = 10\n"
     ]
    }
   ],
   "source": [
    "x = 10\n",
    "y = 30\n",
    "x,y = y,x\n",
    "print(\"x =\",x,\"y =\",y)"
   ]
  },
  {
   "cell_type": "code",
   "execution_count": null,
   "id": "2f2ac775-23d6-4b9a-af35-4b95b90c49a4",
   "metadata": {},
   "outputs": [],
   "source": []
  },
  {
   "cell_type": "code",
   "execution_count": 10,
   "id": "eac6c4c5-b749-43cb-8e2e-b14e694a898a",
   "metadata": {},
   "outputs": [
    {
     "data": {
      "text/plain": [
       "'Soln 2: calculate the area of a rectangle. '"
      ]
     },
     "execution_count": 10,
     "metadata": {},
     "output_type": "execute_result"
    }
   ],
   "source": [
    "'''Soln 2: calculate the area of a rectangle. '''"
   ]
  },
  {
   "cell_type": "code",
   "execution_count": 13,
   "id": "28b16740-62af-4a6b-b4ef-7e1c4014960f",
   "metadata": {},
   "outputs": [],
   "source": [
    "# Take length from user"
   ]
  },
  {
   "cell_type": "code",
   "execution_count": 23,
   "id": "c134f1e4-e155-4eb9-8b81-62ce37ae5f3c",
   "metadata": {},
   "outputs": [
    {
     "name": "stdin",
     "output_type": "stream",
     "text": [
      " 4\n"
     ]
    }
   ],
   "source": [
    "l = int(input())\n"
   ]
  },
  {
   "cell_type": "code",
   "execution_count": null,
   "id": "c0e0b648-2fe9-4984-87eb-3ee24c9e13f2",
   "metadata": {},
   "outputs": [],
   "source": [
    "#Take breadth from user"
   ]
  },
  {
   "cell_type": "code",
   "execution_count": 24,
   "id": "7d472b0a-5ab1-49ef-8555-817a6e0c6197",
   "metadata": {},
   "outputs": [
    {
     "name": "stdin",
     "output_type": "stream",
     "text": [
      " 5\n"
     ]
    }
   ],
   "source": [
    "b = int(input())"
   ]
  },
  {
   "cell_type": "code",
   "execution_count": null,
   "id": "1d55128c-35ef-49ad-a2ec-29bf1c76b0b9",
   "metadata": {},
   "outputs": [],
   "source": [
    "# Area of rectange is length * breadth"
   ]
  },
  {
   "cell_type": "code",
   "execution_count": 25,
   "id": "f2f80438-64b9-462a-b29d-e380c5a49df4",
   "metadata": {},
   "outputs": [
    {
     "name": "stdout",
     "output_type": "stream",
     "text": [
      "The area of rectangle is  20\n"
     ]
    }
   ],
   "source": [
    "area = l * b\n",
    "print(\"The area of rectangle is \",area)"
   ]
  },
  {
   "cell_type": "code",
   "execution_count": null,
   "id": "65609904-2a0d-410e-93d1-d16ba8841633",
   "metadata": {},
   "outputs": [],
   "source": []
  },
  {
   "cell_type": "code",
   "execution_count": 21,
   "id": "71684005-233b-44bb-af9e-16b348d02d2e",
   "metadata": {},
   "outputs": [
    {
     "data": {
      "text/plain": [
       "'Soln 3: A program that converts temperature from Celsius to\\nFahrenheit '"
      ]
     },
     "execution_count": 21,
     "metadata": {},
     "output_type": "execute_result"
    }
   ],
   "source": [
    "\"\"\"Soln 3: A program that converts temperature from Celsius to\n",
    "Fahrenheit \"\"\""
   ]
  },
  {
   "cell_type": "code",
   "execution_count": 22,
   "id": "e3fa4890-d74c-4868-a7ba-5510eec0782d",
   "metadata": {},
   "outputs": [],
   "source": [
    "# Relation between celsius and fahrenheight \n",
    "# c/5 = (f-32)/9 "
   ]
  },
  {
   "cell_type": "code",
   "execution_count": 26,
   "id": "ada09eb0-def8-42fc-8737-f6b850073881",
   "metadata": {},
   "outputs": [
    {
     "name": "stdout",
     "output_type": "stream",
     "text": [
      "The temperature in fahrenheight is 80.6\n"
     ]
    }
   ],
   "source": [
    "cel = 27\n",
    "f = 9/5*cel + 32\n",
    "print(\"The temperature in fahrenheight is\",f)"
   ]
  },
  {
   "cell_type": "code",
   "execution_count": null,
   "id": "cbde5170-0f55-4b59-a0e3-7f63ca070cb5",
   "metadata": {},
   "outputs": [],
   "source": []
  },
  {
   "cell_type": "markdown",
   "id": "712f4ef6-ba8d-4d02-bc30-9928e3f57cb6",
   "metadata": {},
   "source": [
    "String Based Questions"
   ]
  },
  {
   "cell_type": "code",
   "execution_count": 26,
   "id": "dc5d653e-160e-4702-b09a-aba518dc0ec4",
   "metadata": {},
   "outputs": [
    {
     "data": {
      "text/plain": [
       "'Soln_1 : Print length of string'"
      ]
     },
     "execution_count": 26,
     "metadata": {},
     "output_type": "execute_result"
    }
   ],
   "source": [
    "\"\"\"Soln_1 : Print length of string\"\"\""
   ]
  },
  {
   "cell_type": "code",
   "execution_count": 27,
   "id": "079963d0-45d1-4c1d-bace-6d2528cb11f7",
   "metadata": {},
   "outputs": [
    {
     "name": "stdout",
     "output_type": "stream",
     "text": [
      "The legth of string  8\n"
     ]
    }
   ],
   "source": [
    "str_1 = 'PwSkills'\n",
    "str_length = len(str_1)\n",
    "print(\"The legth of string \",str_length)"
   ]
  },
  {
   "cell_type": "code",
   "execution_count": null,
   "id": "2d10214e-75cd-4313-b2d1-f34da5af2abb",
   "metadata": {},
   "outputs": [],
   "source": []
  },
  {
   "cell_type": "code",
   "execution_count": 30,
   "id": "6049ec82-f260-406b-98df-b453d2eba4ab",
   "metadata": {},
   "outputs": [
    {
     "data": {
      "text/plain": [
       "'soln_2: Count no of vowels'"
      ]
     },
     "execution_count": 30,
     "metadata": {},
     "output_type": "execute_result"
    }
   ],
   "source": [
    "\"\"\"soln_2: Count no of vowels\"\"\""
   ]
  },
  {
   "cell_type": "code",
   "execution_count": 16,
   "id": "1d9e325c-e6d8-477d-af2a-f57639eeda16",
   "metadata": {},
   "outputs": [
    {
     "name": "stdin",
     "output_type": "stream",
     "text": [
      " dhiren\n"
     ]
    }
   ],
   "source": [
    "str = input()"
   ]
  },
  {
   "cell_type": "code",
   "execution_count": 17,
   "id": "60f24d70-760e-4b90-a7eb-872b7409dbc8",
   "metadata": {},
   "outputs": [
    {
     "name": "stdout",
     "output_type": "stream",
     "text": [
      "No of vowels 2\n"
     ]
    }
   ],
   "source": [
    "vowel = \"aeiouAEIOU\"\n",
    "count = 0 \n",
    "for letter in str:\n",
    "    if(letter in vowel):\n",
    "        count = count+1\n",
    "print(\"No of vowels\", count)"
   ]
  },
  {
   "cell_type": "code",
   "execution_count": null,
   "id": "f11c05b0-c2a9-4382-b2c2-a14a1fb5f466",
   "metadata": {},
   "outputs": [],
   "source": []
  },
  {
   "cell_type": "code",
   "execution_count": 1,
   "id": "4814eeb3-f873-4a0a-8412-7d2c8fbd241b",
   "metadata": {},
   "outputs": [
    {
     "data": {
      "text/plain": [
       "'Sol_3: Reverse char of string using slicing'"
      ]
     },
     "execution_count": 1,
     "metadata": {},
     "output_type": "execute_result"
    }
   ],
   "source": [
    "\"\"\"Sol_3: Reverse char of string using slicing\"\"\""
   ]
  },
  {
   "cell_type": "code",
   "execution_count": 28,
   "id": "7089214f-7845-4ce8-8000-054c84c41168",
   "metadata": {},
   "outputs": [
    {
     "name": "stdout",
     "output_type": "stream",
     "text": [
      "nerihD\n"
     ]
    }
   ],
   "source": [
    "str_2 = \"Dhiren\"\n",
    "print(str_2[::-1])"
   ]
  },
  {
   "cell_type": "code",
   "execution_count": 6,
   "id": "8fef2f72-7ea6-4e39-a9d5-92df5e4fc2a1",
   "metadata": {},
   "outputs": [],
   "source": [
    "# [::-1] means start at the end of the string and end at position 0, move with the step -1"
   ]
  },
  {
   "cell_type": "code",
   "execution_count": null,
   "id": "a6892225-3757-42fa-8cf4-4485206eeaf3",
   "metadata": {},
   "outputs": [],
   "source": []
  },
  {
   "cell_type": "code",
   "execution_count": 7,
   "id": "8d45be34-26e1-4763-be6d-67f9d9a0260f",
   "metadata": {},
   "outputs": [
    {
     "data": {
      "text/plain": [
       "'Soln_4: Check Palindrome'"
      ]
     },
     "execution_count": 7,
     "metadata": {},
     "output_type": "execute_result"
    }
   ],
   "source": [
    "\"\"\"Soln_4: Check Palindrome\"\"\""
   ]
  },
  {
   "cell_type": "code",
   "execution_count": 30,
   "id": "ad74ce2d-da07-4ec8-b70b-60db3bd05255",
   "metadata": {},
   "outputs": [
    {
     "name": "stdout",
     "output_type": "stream",
     "text": [
      "String not Palindrome!!\n"
     ]
    }
   ],
   "source": [
    "str_3 = \"dhiren\"\n",
    "\n",
    "if(str_3 == str_3[::-1]):\n",
    "    print(\"String is palindrome!!\")\n",
    "else:\n",
    "    print(\"String not Palindrome!!\")"
   ]
  },
  {
   "cell_type": "code",
   "execution_count": null,
   "id": "002fa654-7d91-499d-8546-5cda9d8e3c9a",
   "metadata": {},
   "outputs": [],
   "source": []
  },
  {
   "cell_type": "code",
   "execution_count": 31,
   "id": "b3fefda8-a78f-4f06-869b-fff00e700bfe",
   "metadata": {},
   "outputs": [
    {
     "data": {
      "text/plain": [
       "'Soln_5:Remove spaces from string '"
      ]
     },
     "execution_count": 31,
     "metadata": {},
     "output_type": "execute_result"
    }
   ],
   "source": [
    "\"\"\"Soln_5:Remove spaces from string \"\"\""
   ]
  },
  {
   "cell_type": "code",
   "execution_count": 33,
   "id": "587de078-2bac-49c2-ab92-638d9a1e9168",
   "metadata": {},
   "outputs": [
    {
     "name": "stdout",
     "output_type": "stream",
     "text": [
      "String without spaces dhirenthakur\n"
     ]
    }
   ],
   "source": [
    "str_4 = \"    dhiren   thakur   \"\n",
    "print(\"String without spaces\", str_4.replace(\" \",\"\"))"
   ]
  },
  {
   "cell_type": "code",
   "execution_count": 34,
   "id": "7fc56981-0f05-4ece-b062-5066fd28598e",
   "metadata": {},
   "outputs": [],
   "source": [
    "# Since strip() method removes only leading and trailing but not between the string, so i have used replace method to remove spaces"
   ]
  },
  {
   "cell_type": "code",
   "execution_count": null,
   "id": "897037f7-97c0-43e8-b775-051a66c1207d",
   "metadata": {},
   "outputs": [],
   "source": []
  }
 ],
 "metadata": {
  "kernelspec": {
   "display_name": "Python 3 (ipykernel)",
   "language": "python",
   "name": "python3"
  },
  "language_info": {
   "codemirror_mode": {
    "name": "ipython",
    "version": 3
   },
   "file_extension": ".py",
   "mimetype": "text/x-python",
   "name": "python",
   "nbconvert_exporter": "python",
   "pygments_lexer": "ipython3",
   "version": "3.10.8"
  }
 },
 "nbformat": 4,
 "nbformat_minor": 5
}
